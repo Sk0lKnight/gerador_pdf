{
 "cells": [
  {
   "cell_type": "code",
   "execution_count": 6,
   "id": "faae7a04",
   "metadata": {},
   "outputs": [
    {
     "name": "stdout",
     "output_type": "stream",
     "text": [
      "Digite a descrição do projeto: Pênis Hidraulico\n",
      "Digite a quantidade de horas previstas: 500\n",
      "Digite o valor da hora trabalhada: 150\n",
      "Digite o prazo estimado: 6 meses\n",
      "75000\n"
     ]
    }
   ],
   "source": [
    "descricao_projeto = input (\"Digite a descrição do projeto: \")\n",
    "horas_previstas = input (\"Digite a quantidade de horas previstas: \")\n",
    "valor_hora = input (\"Digite o valor da hora trabalhada: \")\n",
    "prazo = input (\"Digite o prazo estimado: \")\n",
    "valor_total = int (horas_previstas) * int (valor_hora)\n",
    "print (valor_total)"
   ]
  },
  {
   "cell_type": "code",
   "execution_count": 5,
   "id": "410f2840",
   "metadata": {},
   "outputs": [
    {
     "name": "stdout",
     "output_type": "stream",
     "text": [
      "Orçamento gerado com sucesso!\n"
     ]
    }
   ],
   "source": [
    "# criando o pdf\n",
    "\n",
    "from fpdf import FPDF\n",
    "pdf = FPDF()\n",
    "\n",
    "pdf.add_page()\n",
    "pdf.set_font(\"Arial\")\n",
    "pdf.image(\"template.png\", x=0,y=0)\n",
    "\n",
    "pdf.text(115,145, descricao_projeto)\n",
    "pdf.text(115,160, horas_previstas)\n",
    "pdf.text(115,175, valor_hora)\n",
    "pdf.text(115,190, prazo)\n",
    "pdf.text(115,205, str(valor_total))\n",
    "\n",
    "pdf.output(\"Orçamento2.pdf\")\n",
    "\n",
    "print (\"Orçamento gerado com sucesso!\")"
   ]
  }
 ],
 "metadata": {
  "kernelspec": {
   "display_name": "Python 3 (ipykernel)",
   "language": "python",
   "name": "python3"
  },
  "language_info": {
   "codemirror_mode": {
    "name": "ipython",
    "version": 3
   },
   "file_extension": ".py",
   "mimetype": "text/x-python",
   "name": "python",
   "nbconvert_exporter": "python",
   "pygments_lexer": "ipython3",
   "version": "3.11.5"
  }
 },
 "nbformat": 4,
 "nbformat_minor": 5
}
